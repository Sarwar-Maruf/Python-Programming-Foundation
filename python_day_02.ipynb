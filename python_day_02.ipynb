{
 "cells": [
  {
   "cell_type": "markdown",
   "metadata": {},
   "source": [
    "Operator & operand"
   ]
  },
  {
   "cell_type": "code",
   "execution_count": 1,
   "metadata": {
    "scrolled": false
   },
   "outputs": [
    {
     "name": "stdout",
     "output_type": "stream",
     "text": [
      "a&b: 0\n",
      "a|b: 6\n",
      "~b: -1\n",
      "~a: -7\n",
      "value found\n",
      "yeah!the value are same\n",
      "sorry! they are not same\n"
     ]
    }
   ],
   "source": [
    "#BitWise operator: \n",
    "\n",
    "a=6\n",
    "b=0\n",
    "print('a&b:',a&b)\n",
    "\n",
    "print('a|b:',a|b)\n",
    "\n",
    "print('~b:',~b)\n",
    "print('~a:',~a)\n",
    "\n",
    "##############################\n",
    "\n",
    "#Membership Operator:\n",
    "\n",
    "a=5\n",
    "b=[1,3,5,7]\n",
    "if a in b:\n",
    "    print(\"value found\")\n",
    "    \n",
    "if a not in b:\n",
    "    print(\"not found\")\n",
    "    \n",
    "\n",
    "#Identity Operator:\n",
    "\n",
    "a=5\n",
    "b=5\n",
    "\n",
    "if a is b:\n",
    "    print(\"yeah!the value are same\")\n",
    "a=6\n",
    "b=3\n",
    "if a is not b:\n",
    "    print(\"sorry! they are not same\")"
   ]
  },
  {
   "cell_type": "markdown",
   "metadata": {},
   "source": [
    "Program flow-Control"
   ]
  },
  {
   "cell_type": "code",
   "execution_count": 2,
   "metadata": {
    "scrolled": true
   },
   "outputs": [
    {
     "name": "stdout",
     "output_type": "stream",
     "text": [
      "Pass\n",
      "You are adult\n",
      "you are qualified for jobs\n",
      "Congratutation!you got the job\n",
      "you are brillient!\n",
      "the largest number is C\n"
     ]
    }
   ],
   "source": [
    "marks=45\n",
    "if marks>=40:\n",
    "    print(\"Pass\")\n",
    "    \n",
    "age =85\n",
    "if age>=18:\n",
    "    print(\"You are adult\")\n",
    "    \n",
    "marks=80\n",
    "if marks>=75:\n",
    "    print(\"you are qualified for jobs\")\n",
    "    \n",
    "if marks>=80:\n",
    "    print(\"Congratutation!you got the job\")\n",
    "else:\n",
    "    print(\"Sorry to say Goodbye!!!\")\n",
    "if(marks>=75 and marks<=100):\n",
    "    print(\"you are brillient!\")\n",
    "else:\n",
    "    print(\"Never come here again!\")\n",
    "    \n",
    "\n",
    "a=50\n",
    "b=200\n",
    "c=250\n",
    "if(a>b):\n",
    "    if(a>c):\n",
    "        print(\"The largest Number is A\")\n",
    "    else:\n",
    "        print(\"The Largest Number is C\")\n",
    "else:\n",
    "    if(b>c):\n",
    "        print(\"the largest NUmber is B\")\n",
    "    else:\n",
    "        print(\"the largest number is C\")"
   ]
  },
  {
   "cell_type": "markdown",
   "metadata": {},
   "source": [
    "Loop & Control Statements"
   ]
  },
  {
   "cell_type": "code",
   "execution_count": null,
   "metadata": {
    "scrolled": true
   },
   "outputs": [],
   "source": [
    "i=0\n",
    "while i<5:\n",
    "    print(\"Bangladesh\")\n",
    "    i+=1\n",
    "    \n",
    "i=1\n",
    "while i<=10:\n",
    "    print(i)\n",
    "    i+=1\n",
    "i=10\n",
    "while i>0:\n",
    "    print(i)\n",
    "    i-=1\n",
    "i=1\n",
    "n=0\n",
    "while i<=20:\n",
    "    n=n+i\n",
    "    i+=1\n",
    "print(\"The sum is:\",n)\n",
    "\n",
    "#even and Odd:\n",
    "\n",
    "i=0\n",
    "while i<=20:\n",
    "    if((i%2)==0):\n",
    "        print(i,\"is a even number\\n\")\n",
    "    else:\n",
    "        print(i,\"is a odd number\\n\")\n",
    "    i+=1\n",
    "    \n",
    "#name varifing using while & if :::\n",
    "\n",
    "name=\"\"\n",
    "while name !=\"Jebon\":\n",
    "    name= input(\"Password:\")\n",
    "    if name ==\"Jebon\":\n",
    "        print(\"Hi,\",name,\"...you gonna learn machine learning very soon.Best of luck!\")  \n",
    "    else:\n",
    "        print(\"sorry!not matching...\")\n",
    "    \n",
    "################################## FOR loop:::   ######################################\n",
    "\n",
    "for n in range(0,11):\n",
    "    print(n)\n",
    "\n",
    "for n in range(11,0,-1):\n",
    "    print(n)\n",
    "for n in range (5):\n",
    "    print(\"Am I happy?Yes,I'm happy...\")\n",
    "\n",
    "\n",
    "i=0    \n",
    "while(i<=50):\n",
    "    print(i)\n",
    "    i+=1\n",
    "\n",
    "    \n",
    "########################### Nested Loop #######################\n",
    "\n",
    "n=1\n",
    "while n<5:\n",
    "    print(\"Group:\",n)\n",
    "    n+=1\n",
    "    m=102\n",
    "    while m<103:\n",
    "        print(\"member:\",m)\n",
    "        m+=1\n",
    "        \n",
    "\n",
    "for n in range (1,5,1):\n",
    "    print(\"group:\",n)\n",
    "    for m in range (101,103):\n",
    "        print(\"member:\",m)\n",
    "    "
   ]
  },
  {
   "cell_type": "code",
   "execution_count": 13,
   "metadata": {
    "scrolled": true
   },
   "outputs": [
    {
     "data": {
      "text/plain": [
       "'3.7.3'"
      ]
     },
     "execution_count": 13,
     "metadata": {},
     "output_type": "execute_result"
    }
   ],
   "source": [
    "python_version()"
   ]
  },
  {
   "cell_type": "markdown",
   "metadata": {},
   "source": [
    "Function"
   ]
  },
  {
   "cell_type": "code",
   "execution_count": 29,
   "metadata": {},
   "outputs": [
    {
     "name": "stdout",
     "output_type": "stream",
     "text": [
      "how are you, Jebon ...?\n",
      "the sum is: 10\n",
      "submission is: 10\n",
      "9 3 18 2.0\n"
     ]
    }
   ],
   "source": [
    "def greeting_show(name):\n",
    "    print(\"how are you,\",name,\"...?\")\n",
    "greeting_show(\"Jebon\")\n",
    "\n",
    "def calculator(a,b):\n",
    "    print(\"the sum is:\",a+b)\n",
    "calculator(5,5)\n",
    "\n",
    "def calcu(a,b):\n",
    "    result=a+b\n",
    "    return result\n",
    "submission=calcu(5,15)-calcu(5,5)\n",
    "print(\"submission is:\",submission)\n",
    "\n",
    "def new_cal(a,b=2):\n",
    "    sum=a+b\n",
    "    sub=a-b\n",
    "    multi=a*b\n",
    "    div=a/b\n",
    "    return sum,sub,multi,div\n",
    "s,su,mu,di=new_cal(6,3)\n",
    "print(s,su,mu,di)"
   ]
  }
 ],
 "metadata": {
  "kernelspec": {
   "display_name": "Python 3",
   "language": "python",
   "name": "python3"
  },
  "language_info": {
   "codemirror_mode": {
    "name": "ipython",
    "version": 3
   },
   "file_extension": ".py",
   "mimetype": "text/x-python",
   "name": "python",
   "nbconvert_exporter": "python",
   "pygments_lexer": "ipython3",
   "version": "3.7.3"
  }
 },
 "nbformat": 4,
 "nbformat_minor": 2
}
