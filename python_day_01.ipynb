{
 "cells": [
  {
   "cell_type": "raw",
   "metadata": {},
   "source": [
    "Variable"
   ]
  },
  {
   "cell_type": "code",
   "execution_count": 16,
   "metadata": {},
   "outputs": [
    {
     "name": "stdout",
     "output_type": "stream",
     "text": [
      "sarwar maruf Jebon\n",
      "55/A,Sukrabad,Dhaka\n",
      "Bangladesh\n",
      "phone number: 01710144505\n",
      "Am I bangladeshi? True\n"
     ]
    },
    {
     "data": {
      "text/plain": [
       "bool"
      ]
     },
     "execution_count": 16,
     "metadata": {},
     "output_type": "execute_result"
    }
   ],
   "source": [
    " my_name=\"sarwar maruf Jebon\"\n",
    " print(my_name)\n",
    " my_age=22\n",
    " my_address=\"55/A,Sukrabad,Dhaka\"\n",
    "print(my_address)\n",
    "Country='Bangladesh'\n",
    "print(Country)\n",
    "phone_number='01710144505'\n",
    "print(\"phone number:\",phone_number)\n",
    "yes=True\n",
    "print(\"Am I bangladeshi?\",yes)\n",
    "type(yes)"
   ]
  },
  {
   "cell_type": "code",
   "execution_count": 25,
   "metadata": {},
   "outputs": [
    {
     "name": "stdout",
     "output_type": "stream",
     "text": [
      "50\n",
      "50\n",
      "51 51\n",
      "5\n",
      "10\n",
      "15\n",
      "sarwar 9 maruf\n"
     ]
    },
    {
     "data": {
      "text/plain": [
       "str"
      ]
     },
     "execution_count": 25,
     "metadata": {},
     "output_type": "execute_result"
    }
   ],
   "source": [
    "a=50\n",
    "print(a)\n",
    "b=a\n",
    "print(b)\n",
    "a=b=51\n",
    "print(a,b)\n",
    "\n",
    "a,b,c = 5,10,15\n",
    "print(a)\n",
    "print(b)\n",
    "print(c)\n",
    "\n",
    "a,b,c= \"sarwar\",9,\"maruf\"\n",
    "print(a,b,c)\n",
    "type(a)"
   ]
  },
  {
   "cell_type": "markdown",
   "metadata": {},
   "source": [
    "Data Type"
   ]
  },
  {
   "cell_type": "code",
   "execution_count": null,
   "metadata": {},
   "outputs": [],
   "source": [
    "#Numeric\n",
    "a=10\n",
    "print(a)\n",
    "type(a)\n",
    "a=5.5\n",
    "#here a is float\n",
    "print(a)\n",
    "type(a)\n",
    "\n",
    "#complex:\n",
    "b=3+5j\n",
    "print(b)\n",
    "type(b)\n",
    "\n",
    "#Boolean\n",
    "i=True\n",
    "j=False\n",
    "print(i,\"=\",j)\n",
    "type(i)\n",
    "\n",
    "#string:\n",
    "\n",
    "a=\"hi,it's me,Jebon\"\n",
    "b=\"\"\"Jebon,\n",
    "\n",
    "    How are you?you are looking soo new.\n",
    "    what's the reason?\n",
    "    \n",
    "    yours ever,\n",
    "    jebon\"\"\"\n",
    "print(a)\n",
    "print(b)\n",
    "type(b)\n",
    "\n",
    "#sequence type:\n",
    "\n",
    "  #list:(mutable)\n",
    "list1= [10,34,56,67]\n",
    "print(list1)\n",
    "list2 = ['sarwar maruf',55,True,\"what happened?\"]\n",
    "print(list2)\n",
    "type(list)\n",
    "\n",
    "  #tuple(immutable)\n",
    "    \n",
    "a=('sarwar maruf',55,True,\"what happened?\")\n",
    "print(a)\n",
    "type(a)\n",
    "\n",
    "#Mapping data:\n",
    "\n",
    "dic1={\"name\":\"Sarawar Maruf Jebon\",\"age\":22,\"Address\":\"sukrabad,55/A\",\"phone\":\"01710144505\"}\n",
    "dic1[\"name\"]\n",
    "dic1[\"phone\"]\n",
    "type(dic1)\n",
    "\n",
    "#Set Type:(set,frozen)\n",
    "\n",
    "set1=set([10,15,15,254,509])\n",
    "print(set1)\n",
    "set2=set([\"who are you?\",25,\"shut up\",'ok'])\n",
    "print(set2)\n",
    "type(set2)\n",
    "\n",
    "#Frozen set:(immutable)\n",
    "\n",
    "set1=frozenset([10,15,15,254,509])\n",
    "print(set1)\n",
    "type(set1)"
   ]
  },
  {
   "cell_type": "markdown",
   "metadata": {},
   "source": [
    "Operator & Operand"
   ]
  },
  {
   "cell_type": "code",
   "execution_count": 19,
   "metadata": {},
   "outputs": [
    {
     "name": "stdout",
     "output_type": "stream",
     "text": [
      "a+b= 6\n",
      "a-b= 2\n",
      "a*b= 8\n",
      "a/b= 2.0\n",
      "c%a= 3\n",
      "a**b= 16\n",
      "a//b= 2\n",
      "a>b => False\n",
      "a<b => True\n",
      "a==b => False\n",
      "a!=b => True\n",
      "a>=b => False\n",
      "a<=b => True\n",
      "60\n",
      "900\n",
      "a AND b? False\n",
      "a OR b? True\n",
      "NOT b? True\n",
      "NOT a? False\n"
     ]
    }
   ],
   "source": [
    "#Arithmetic Operator:\n",
    "\n",
    "a,b,c=4,2,7\n",
    "print(\"a+b=\",a+b)\n",
    "print(\"a-b=\",a-b)\n",
    "print(\"a*b=\",a*b)\n",
    "print(\"a/b=\",a/b)\n",
    "print(\"c%a=\",c%a)\n",
    "print(\"a**b=\",a**b)\n",
    "print(\"a//b=\",a//b)\n",
    "\n",
    "#Comparizon Operator:\n",
    "\n",
    "a=5\n",
    "b=6\n",
    "print(\"a>b =>\",a>b)\n",
    "print(\"a<b =>\",a<b)\n",
    "print(\"a==b =>\",a==b)\n",
    "print(\"a!=b =>\",a!=b)\n",
    "print(\"a>=b =>\",a>=b)\n",
    "print(\"a<=b =>\",a<=b)\n",
    "\n",
    "\n",
    "#Assignment Operator:\n",
    "\n",
    "a=5\n",
    "b=60\n",
    "a=b\n",
    "print(a)\n",
    "a+=2\n",
    "a-=2\n",
    "a//=2\n",
    "a**=2\n",
    "print(a)\n",
    "\n",
    "#Logical OPerator\n",
    "\n",
    "a=True\n",
    "b=False\n",
    "print(\"a AND b?\",a and b)\n",
    "print(\"a OR b?\",a or b)\n",
    "print(\"NOT b?\",not b)\n",
    "print(\"NOT a?\",not a)\n",
    "\n",
    "\n",
    "\n",
    "\n",
    "\n"
   ]
  },
  {
   "cell_type": "code",
   "execution_count": null,
   "metadata": {},
   "outputs": [],
   "source": []
  }
 ],
 "metadata": {
  "kernelspec": {
   "display_name": "Python 3",
   "language": "python",
   "name": "python3"
  },
  "language_info": {
   "codemirror_mode": {
    "name": "ipython",
    "version": 3
   },
   "file_extension": ".py",
   "mimetype": "text/x-python",
   "name": "python",
   "nbconvert_exporter": "python",
   "pygments_lexer": "ipython3",
   "version": "3.7.3"
  }
 },
 "nbformat": 4,
 "nbformat_minor": 2
}
