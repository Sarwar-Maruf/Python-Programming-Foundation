{
 "cells": [
  {
   "cell_type": "markdown",
   "metadata": {},
   "source": [
    "String & Number Operation"
   ]
  },
  {
   "cell_type": "code",
   "execution_count": 2,
   "metadata": {
    "scrolled": false
   },
   "outputs": [
    {
     "name": "stdout",
     "output_type": "stream",
     "text": [
      "sarwar maruf Jebon\n",
      "\n",
      "I'm from Bangladesh.I want to learn machine learning as well as Data Science and Artificial intelligent too...\n",
      "sarwar maruf Jebon\n",
      "I'm from Bangladesh.I want to learn machine learning as well as Data Science and Artificial intelligent too...\n",
      "sarwar maruf Jebon\n",
      "sarwar maruf Jebon\n",
      "sarwar maruf Jebon\n",
      "sarwar maruf Jebon\n",
      "sarwar maruf Jebon\n",
      "\n",
      "n\n",
      "sarwar\n",
      "True\n",
      "False\n",
      "I love Machine Learning!!!\n"
     ]
    },
    {
     "data": {
      "text/plain": [
       "11"
      ]
     },
     "execution_count": 2,
     "metadata": {},
     "output_type": "execute_result"
    }
   ],
   "source": [
    "str1='sarwar maruf Jebon\\n'\n",
    "str2=\"\"\"I'm from Bangladesh.I want to learn machine learning as well as Data Science and Artificial intelligent too...\"\"\"\n",
    "print(str1)\n",
    "print(str2)\n",
    "\n",
    "\n",
    "### String operator !!!\n",
    "print(str1+str2)\n",
    "print(str1*5)\n",
    "print(str1[-2])\n",
    "print(str1[0:6])\n",
    "print('s' in str1)\n",
    "print('s' not in str1)\n",
    "\n",
    "print(\"{0} love {1}\".format('I','Machine Learning!!!'))\n",
    "\n",
    "### String Method ####\n",
    "a='artificial intelligent!'\n",
    "a.capitalize()\n",
    "a.center(30,'*')\n",
    "\n",
    "### Number Method !!!\n",
    "\n",
    "\n",
    "abs(-5.7)\n",
    "max(1,2,3,4,5,6,7,8,9)\n",
    "min(1,2,3,4,5,6,7,8,9)\n",
    "pow(3,3)\n",
    "\n",
    "round(10.75)\n"
   ]
  },
  {
   "cell_type": "code",
   "execution_count": null,
   "metadata": {},
   "outputs": [],
   "source": [
    "conda install package_name"
   ]
  }
 ],
 "metadata": {
  "kernelspec": {
   "display_name": "Python 3",
   "language": "python",
   "name": "python3"
  },
  "language_info": {
   "codemirror_mode": {
    "name": "ipython",
    "version": 3
   },
   "file_extension": ".py",
   "mimetype": "text/x-python",
   "name": "python",
   "nbconvert_exporter": "python",
   "pygments_lexer": "ipython3",
   "version": "3.7.3"
  }
 },
 "nbformat": 4,
 "nbformat_minor": 2
}
