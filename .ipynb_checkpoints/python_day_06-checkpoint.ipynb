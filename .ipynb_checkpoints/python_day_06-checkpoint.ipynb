{
 "cells": [
  {
   "cell_type": "markdown",
   "metadata": {},
   "source": [
    "# Dictionary Data Structure :"
   ]
  },
  {
   "cell_type": "code",
   "execution_count": 28,
   "metadata": {
    "scrolled": false
   },
   "outputs": [
    {
     "name": "stdout",
     "output_type": "stream",
     "text": [
      "{1: 'Saturday', 2: 'Sunday', 3: 'Monday', 4: 'Tuesday', 5: 'Wednesday', 6: 'Thursday', 7: 'Friday'}\n",
      "{'Name': 'Sarwar Maruf', 'Department': 'Cse', 'Year': '2nd', 'Sem': '3rd'}\n",
      "Sarwar Maruf\n",
      "dict_values(['Saturday', 'Sunday', 'Monday', 'Tuesday', 'Wednesday', 'Thursday', 'Friday'])\n",
      "dict_keys(['Name', 'Department', 'Year', 'Sem'])\n",
      "Sarwar Maruf\n",
      "Saturday \n",
      "\n",
      "Sunday \n",
      "\n",
      "Monday \n",
      "\n",
      "Tuesday \n",
      "\n",
      "Wednesday \n",
      "\n",
      "Thursday \n",
      "\n",
      "Friday \n",
      "\n",
      "1 Saturday \n",
      "\n",
      "2 Sunday \n",
      "\n",
      "3 Monday \n",
      "\n",
      "4 Tuesday \n",
      "\n",
      "5 Wednesday \n",
      "\n",
      "6 Thursday \n",
      "\n",
      "7 Friday \n",
      "\n"
     ]
    }
   ],
   "source": [
    "week_day={1:'Saturday',2:'Sunday',3:'Monday',4:'Tuesday',5:'Wednesday',6:'Thursday',7:'Friday'}\n",
    "print(week_day)\n",
    "student={'Name': 'Sarwar Maruf','Department':\"Cse\",\"Year\":\"2nd\",\"Sem\":'3rd'}\n",
    "print(student)\n",
    "print(student['Name'])\n",
    "print(week_day.values())\n",
    "print(student.keys())\n",
    "print(student.get('Name'))\n",
    "for values in week_day.values():\n",
    "    print(values,\"\\n\")\n",
    "for keys,values in week_day.items():\n",
    "    print(keys,values,\"\\n\")\n"
   ]
  },
  {
   "cell_type": "code",
   "execution_count": 44,
   "metadata": {},
   "outputs": [
    {
     "name": "stdout",
     "output_type": "stream",
     "text": [
      "{'Name': 'Sarwar Maruf', 'Department': 'Cse', 'Year': '2nd', 'Sem': '3rd', 'subject': 'Mahcine Learning', 'sub': 'Mahcine Learning'}\n",
      "{'1': 'one', '2': 'Two', '3': 'Three', '4': 'Four', '5': 'Five', '6': 'Six'}\n",
      "{'4': 'Four', '5': 'Five', '6': 'Six'}\n",
      "{'4': 'Four', '5': 'Five'}\n",
      "('6', 'Six')\n",
      "None\n"
     ]
    }
   ],
   "source": [
    "student['subject']=\"Mahcine Learning\"\n",
    "print(student)\n",
    "\n",
    "####  Updateing values :::\n",
    "a={'1':'one','2':'Two','3':'Three'}\n",
    "b={'4':'Four','5':'Five','6':'Six'}\n",
    "a.update(b)\n",
    "print(a)\n",
    "print(b)\n",
    "\n",
    "### Deleting :::\n",
    "\n",
    "del b['6']\n",
    "print(b)\n",
    "print(a.popitem())\n",
    "print(b.clear())"
   ]
  }
 ],
 "metadata": {
  "kernelspec": {
   "display_name": "Python 3",
   "language": "python",
   "name": "python3"
  },
  "language_info": {
   "codemirror_mode": {
    "name": "ipython",
    "version": 3
   },
   "file_extension": ".py",
   "mimetype": "text/x-python",
   "name": "python",
   "nbconvert_exporter": "python",
   "pygments_lexer": "ipython3",
   "version": "3.7.3"
  }
 },
 "nbformat": 4,
 "nbformat_minor": 2
}
